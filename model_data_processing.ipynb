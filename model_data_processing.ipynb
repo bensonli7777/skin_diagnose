{
  "cells": [
    {
      "cell_type": "markdown",
      "metadata": {
        "id": "d6XhT6GJBkAh"
      },
      "source": [
        "# 資料處理\n",
        "\n",
        "\n",
        "---\n",
        "將現有的圖片資料庫擴充後再轉換成各個像素RGB值的csv檔，並且帶有label\n",
        "\n"
      ]
    },
    {
      "cell_type": "markdown",
      "metadata": {
        "id": "wREwD7uadZB_"
      },
      "source": [
        "# 導入資料"
      ]
    },
    {
      "cell_type": "markdown",
      "metadata": {
        "id": "BFbWuGrQDOYi"
      },
      "source": [
        "讀取照片資料夾"
      ]
    },
    {
      "cell_type": "code",
      "execution_count": null,
      "metadata": {
        "colab": {
          "base_uri": "https://localhost:8080/"
        },
        "id": "LvZ3ECYQDNsd",
        "outputId": "6edbe1de-c4b0-4cde-ea6a-2b2934788418"
      },
      "outputs": [
        {
          "name": "stdout",
          "output_type": "stream",
          "text": [
            "Mounted at /content/drive\n"
          ]
        }
      ],
      "source": [
        "# 掛載google雲端\n",
        "from google.colab import drive\n",
        "drive.mount('/content/drive')"
      ]
    },
    {
      "cell_type": "code",
      "execution_count": null,
      "metadata": {
        "colab": {
          "base_uri": "https://localhost:8080/"
        },
        "id": "JmUeQggwKHB4",
        "outputId": "a4b48bb9-fcbd-44b0-e092-62363f3798cf"
      },
      "outputs": [
        {
          "name": "stdout",
          "output_type": "stream",
          "text": [
            "'Benign keratosis'   C64111174_王宇桐_D組.gdoc\t'Colab Notebooks'   模型data\n"
          ]
        }
      ],
      "source": [
        "# 檢查雲端內容\n",
        "!ls \"/content/drive/My Drive\""
      ]
    },
    {
      "cell_type": "code",
      "execution_count": null,
      "metadata": {
        "id": "jyxQLhP1KHrB"
      },
      "outputs": [],
      "source": [
        "# 資料夾路徑\n",
        "images_path = '/content/drive/My Drive/模型data'"
      ]
    },
    {
      "cell_type": "markdown",
      "metadata": {
        "id": "yqzCzTUUCBdn"
      },
      "source": [
        "# 擴增資料庫\n"
      ]
    },
    {
      "cell_type": "code",
      "execution_count": null,
      "metadata": {
        "colab": {
          "base_uri": "https://localhost:8080/"
        },
        "id": "H8GTkV_fKBlv",
        "outputId": "bb4ea25e-927e-4488-e8da-1495de8090ab"
      },
      "outputs": [
        {
          "name": "stdout",
          "output_type": "stream",
          "text": [
            "Requirement already satisfied: pillow in /usr/local/lib/python3.10/dist-packages (9.4.0)\n",
            "Requirement already satisfied: opencv-python in /usr/local/lib/python3.10/dist-packages (4.8.0.76)\n",
            "Requirement already satisfied: numpy>=1.21.2 in /usr/local/lib/python3.10/dist-packages (from opencv-python) (1.25.2)\n"
          ]
        }
      ],
      "source": [
        "!pip install pillow opencv-python"
      ]
    },
    {
      "cell_type": "markdown",
      "metadata": {
        "id": "GJiRsuCBCFvI"
      },
      "source": [
        "將資料夾中的每張圖片旋轉、變形後再調亮度最後模糊化，原本70張照片旋轉後變280張，再來變形後變560張，再來調亮度變1120張，最後模糊化變2240張。"
      ]
    },
    {
      "cell_type": "markdown",
      "metadata": {
        "id": "6dQF8QCJTDzW"
      },
      "source": [
        "將照片轉為RGB模式"
      ]
    },
    {
      "cell_type": "code",
      "execution_count": null,
      "metadata": {
        "colab": {
          "base_uri": "https://localhost:8080/"
        },
        "id": "_A2qzUyATHGn",
        "outputId": "04d02da5-1130-4199-ab04-38b5b278886d"
      },
      "outputs": [
        {
          "name": "stdout",
          "output_type": "stream",
          "text": [
            "資料集中所有照片已成功轉換為 RGB 模式。\n"
          ]
        }
      ],
      "source": [
        "from PIL import Image\n",
        "import os\n",
        "\n",
        "# 定義圖片處理函數：將圖片轉換為 RGB 模式\n",
        "def convert_to_rgb(image_path):\n",
        "    image = Image.open(image_path)\n",
        "    if image.mode != 'RGB':\n",
        "        image = image.convert('RGB')\n",
        "        image.save(image_path)\n",
        "\n",
        "# 遍歷資料夾中的每張圖片並轉換為 RGB 模式\n",
        "for filename in os.listdir(images_path):\n",
        "    if filename.endswith(('.png', '.jpg', '.jpeg')): # 依照圖片格式改變\n",
        "        img_path = os.path.join(images_path, filename)\n",
        "        convert_to_rgb(img_path)\n",
        "\n",
        "print(\"資料集中所有照片已成功轉換為 RGB 模式。\")"
      ]
    },
    {
      "cell_type": "markdown",
      "metadata": {
        "id": "02L5ablfDCsf"
      },
      "source": [
        "**照片旋轉**"
      ]
    },
    {
      "cell_type": "code",
      "execution_count": null,
      "metadata": {
        "colab": {
          "base_uri": "https://localhost:8080/"
        },
        "id": "6_qdwEyfCZ86",
        "outputId": "2b59c3ba-b00c-40f7-ee8e-27ead47f788a"
      },
      "outputs": [
        {
          "name": "stdout",
          "output_type": "stream",
          "text": [
            "圖片處理完成。\n"
          ]
        }
      ],
      "source": [
        "# 照片資料夾中每一張照片都分別旋轉90 180 270度變成新的一張後再儲存進資料夾中，資料夾的照片變四倍\n",
        "# 會跑\n",
        "from PIL import Image\n",
        "import os\n",
        "\n",
        "for filename in os.listdir(images_path):\n",
        "    if filename.endswith(('.png', '.jpg', '.jpeg')):  # 依照圖片格式改變\n",
        "        img_path = os.path.join(images_path, filename)\n",
        "\n",
        "        # 讀取圖片\n",
        "        img = Image.open(img_path)\n",
        "\n",
        "        # 對每張圖片進行90, 180, 270度旋轉\n",
        "        for angle in [90, 180, 270]:\n",
        "            rotated_img = img.rotate(angle)\n",
        "\n",
        "            # 新的文件名和路徑\n",
        "            new_filename = f'{os.path.splitext(filename)[0]}_{angle}.jpg'\n",
        "            new_img_path = os.path.join(images_path, new_filename)\n",
        "\n",
        "            rotated_img.save(new_img_path) # 儲存旋轉完的照片\n",
        "\n",
        "print(\"圖片處理完成。\")\n"
      ]
    },
    {
      "cell_type": "markdown",
      "metadata": {
        "id": "azFhHFvNDpIy"
      },
      "source": [
        "**照片變形**"
      ]
    },
    {
      "cell_type": "code",
      "execution_count": null,
      "metadata": {
        "colab": {
          "base_uri": "https://localhost:8080/"
        },
        "id": "vZ6eh-ZAO7nl",
        "outputId": "f24c0c6e-d892-4338-e10e-651545172322"
      },
      "outputs": [
        {
          "name": "stdout",
          "output_type": "stream",
          "text": [
            "Requirement already satisfied: imgaug in /usr/local/lib/python3.10/dist-packages (0.4.0)\n",
            "Requirement already satisfied: Pillow in /usr/local/lib/python3.10/dist-packages (9.4.0)\n",
            "Requirement already satisfied: six in /usr/local/lib/python3.10/dist-packages (from imgaug) (1.16.0)\n",
            "Requirement already satisfied: numpy>=1.15 in /usr/local/lib/python3.10/dist-packages (from imgaug) (1.25.2)\n",
            "Requirement already satisfied: scipy in /usr/local/lib/python3.10/dist-packages (from imgaug) (1.11.4)\n",
            "Requirement already satisfied: matplotlib in /usr/local/lib/python3.10/dist-packages (from imgaug) (3.7.1)\n",
            "Requirement already satisfied: scikit-image>=0.14.2 in /usr/local/lib/python3.10/dist-packages (from imgaug) (0.19.3)\n",
            "Requirement already satisfied: opencv-python in /usr/local/lib/python3.10/dist-packages (from imgaug) (4.8.0.76)\n",
            "Requirement already satisfied: imageio in /usr/local/lib/python3.10/dist-packages (from imgaug) (2.31.6)\n",
            "Requirement already satisfied: Shapely in /usr/local/lib/python3.10/dist-packages (from imgaug) (2.0.3)\n",
            "Requirement already satisfied: networkx>=2.2 in /usr/local/lib/python3.10/dist-packages (from scikit-image>=0.14.2->imgaug) (3.2.1)\n",
            "Requirement already satisfied: tifffile>=2019.7.26 in /usr/local/lib/python3.10/dist-packages (from scikit-image>=0.14.2->imgaug) (2024.2.12)\n",
            "Requirement already satisfied: PyWavelets>=1.1.1 in /usr/local/lib/python3.10/dist-packages (from scikit-image>=0.14.2->imgaug) (1.5.0)\n",
            "Requirement already satisfied: packaging>=20.0 in /usr/local/lib/python3.10/dist-packages (from scikit-image>=0.14.2->imgaug) (24.0)\n",
            "Requirement already satisfied: contourpy>=1.0.1 in /usr/local/lib/python3.10/dist-packages (from matplotlib->imgaug) (1.2.0)\n",
            "Requirement already satisfied: cycler>=0.10 in /usr/local/lib/python3.10/dist-packages (from matplotlib->imgaug) (0.12.1)\n",
            "Requirement already satisfied: fonttools>=4.22.0 in /usr/local/lib/python3.10/dist-packages (from matplotlib->imgaug) (4.50.0)\n",
            "Requirement already satisfied: kiwisolver>=1.0.1 in /usr/local/lib/python3.10/dist-packages (from matplotlib->imgaug) (1.4.5)\n",
            "Requirement already satisfied: pyparsing>=2.3.1 in /usr/local/lib/python3.10/dist-packages (from matplotlib->imgaug) (3.1.2)\n",
            "Requirement already satisfied: python-dateutil>=2.7 in /usr/local/lib/python3.10/dist-packages (from matplotlib->imgaug) (2.8.2)\n"
          ]
        }
      ],
      "source": [
        "!pip install imgaug Pillow"
      ]
    },
    {
      "cell_type": "code",
      "execution_count": null,
      "metadata": {
        "colab": {
          "base_uri": "https://localhost:8080/"
        },
        "id": "SQOufiu_D7wM",
        "outputId": "270f3a0e-de09-4947-afdb-940ac0c6ae7f"
      },
      "outputs": [
        {
          "name": "stdout",
          "output_type": "stream",
          "text": [
            "圖片變形處理完成。\n"
          ]
        }
      ],
      "source": [
        "# 將資料夾中每一張照片都變形後變成一張新的照片儲存進資料夾中，資料夾的照片變兩倍\n",
        "import imgaug.augmenters as iaa\n",
        "import numpy as np\n",
        "\n",
        "\n",
        "# 圖片變形函數\n",
        "def apply_image_distortion(image_array):\n",
        "    seq = iaa.Sequential([\n",
        "        iaa.Affine(translate_percent={\"x\": (-0.1, 0.1), \"y\": (-0.1, 0.1)}, rotate=(-10, 10))\n",
        "    ])\n",
        "    distorted_image = seq(image = image_array)\n",
        "    return distorted_image\n",
        "\n",
        "# 遍歷資料夾中的每張圖片\n",
        "for filename in os.listdir(images_path):\n",
        "    if filename.endswith(('.png', '.jpg', '.jpeg')):  # 依照圖片格式改變\n",
        "        img_path = os.path.join(images_path, filename)\n",
        "\n",
        "        # 讀取圖片並轉換為numpy array\n",
        "        img = Image.open(img_path)\n",
        "        img_array = np.array(img)\n",
        "\n",
        "        # 應用圖像變形\n",
        "        distorted_img_array = apply_image_distortion(img_array)\n",
        "\n",
        "        # 確保numpy array是uint8類型\n",
        "        distorted_img_array = np.clip(distorted_img_array, 0, 255).astype(np.uint8)\n",
        "\n",
        "        # 將numpy array轉換回PIL圖像\n",
        "        distorted_img = Image.fromarray(distorted_img_array)\n",
        "\n",
        "        # 新的文件名和路徑\n",
        "        new_filename = f'distorted_{filename}'\n",
        "        new_img_path = os.path.join(images_path, new_filename)\n",
        "\n",
        "        distorted_img.save(new_img_path) # 儲存變形完的照片\n",
        "\n",
        "print(\"圖片變形處理完成。\")\n"
      ]
    },
    {
      "cell_type": "markdown",
      "metadata": {
        "id": "Dypu1gOeESza"
      },
      "source": [
        "**照片變暗**"
      ]
    },
    {
      "cell_type": "code",
      "execution_count": null,
      "metadata": {
        "colab": {
          "base_uri": "https://localhost:8080/"
        },
        "id": "oIJtEeNQEd-g",
        "outputId": "648520ef-6f14-42d4-8827-7cfcc53ec121"
      },
      "outputs": [
        {
          "name": "stdout",
          "output_type": "stream",
          "text": [
            "圖片變暗處理完成。\n"
          ]
        }
      ],
      "source": [
        "# 將資料夾中每一張照片都變暗變成一張新的照片儲存進資料夾中，資料夾照片變兩倍\n",
        "from PIL import ImageEnhance, Image\n",
        "\n",
        "# 定義函數：將圖片變暗\n",
        "def darken_image(image):\n",
        "    enhancer = ImageEnhance.Brightness(image)\n",
        "    darkened_image = enhancer.enhance(0.5)  # 0.5 表示將亮度降低為原始的一半\n",
        "    return darkened_image\n",
        "\n",
        "# 遍歷資料夾中的每張圖片\n",
        "for filename in os.listdir(images_path):\n",
        "    if filename.endswith(('.png', '.jpg', '.jpeg')):  # 可以根據需要添加其他圖片格式\n",
        "        img_path = os.path.join(images_path, filename)\n",
        "\n",
        "        # 讀取圖片\n",
        "        img = Image.open(img_path)\n",
        "\n",
        "        # 將圖片變暗\n",
        "        darkened_img = darken_image(img)\n",
        "\n",
        "        # 構建新的文件名和路徑\n",
        "        new_filename = f'darkened_{filename}'\n",
        "        new_img_path = os.path.join(images_path, new_filename)\n",
        "\n",
        "        # 保存變暗後的圖片\n",
        "        darkened_img.save(new_img_path)\n",
        "\n",
        "print(\"圖片變暗處理完成。\")\n"
      ]
    },
    {
      "cell_type": "markdown",
      "metadata": {
        "id": "fArLVzDYEpT5"
      },
      "source": [
        "**照片模糊化**"
      ]
    },
    {
      "cell_type": "code",
      "execution_count": null,
      "metadata": {
        "colab": {
          "base_uri": "https://localhost:8080/"
        },
        "id": "uOpYpFROEuDa",
        "outputId": "5efc8a88-c8c6-40c2-9a20-748d3efb590b"
      },
      "outputs": [
        {
          "name": "stdout",
          "output_type": "stream",
          "text": [
            "圖片模糊化處理完成。\n"
          ]
        }
      ],
      "source": [
        "# 將資料夾中每一張照片都模糊化變成一張新的照片儲存進資料夾中，資料夾照片變兩倍\n",
        "from PIL import ImageFilter\n",
        "\n",
        "# 定義函數：應用高斯模糊\n",
        "def apply_gaussian_blur(image):\n",
        "    sigma = np.random.uniform(1, 3)  # 隨機選擇標準差以增加多樣性\n",
        "    blurred_image = image.filter(ImageFilter.GaussianBlur(sigma))\n",
        "    return blurred_image\n",
        "\n",
        "# 遍歷資料夾中的每張圖片\n",
        "for filename in os.listdir(images_path):\n",
        "    if filename.endswith(('.png', '.jpg', '.jpeg')):  # 可以根據需要添加其他圖片格式\n",
        "        img_path = os.path.join(images_path, filename)\n",
        "\n",
        "        # 讀取圖片\n",
        "        img = Image.open(img_path)\n",
        "\n",
        "        # 應用高斯模糊\n",
        "        blurred_img = apply_gaussian_blur(img)\n",
        "\n",
        "        # 構建新的文件名和路徑\n",
        "        new_filename = f'blurred_{filename}'\n",
        "        new_img_path = os.path.join(images_path, new_filename)\n",
        "\n",
        "        # 保存模糊化後的圖片\n",
        "        blurred_img.save(new_img_path)\n",
        "\n",
        "print(\"圖片模糊化處理完成。\")\n"
      ]
    },
    {
      "cell_type": "markdown",
      "metadata": {
        "id": "0-Z_tvFSE43A"
      },
      "source": [
        "**得到一個新的資料集**\n"
      ]
    },
    {
      "cell_type": "code",
      "execution_count": null,
      "metadata": {
        "colab": {
          "base_uri": "https://localhost:8080/"
        },
        "id": "l_KG7PItFJMK",
        "outputId": "2110dbbf-d65e-461e-b8e8-a81497946617"
      },
      "outputs": [
        {
          "name": "stdout",
          "output_type": "stream",
          "text": [
            "圖片格式化處理完成。\n"
          ]
        }
      ],
      "source": [
        "# 將照片資料集做處理，調成28X28\n",
        "# 設定新的照片大小\n",
        "new_size = (28, 28)\n",
        "\n",
        "# 遍歷資料夾中的每張圖片\n",
        "for idx, filename in enumerate(os.listdir(images_path)):\n",
        "    if filename.endswith(('.png', '.jpg', '.jpeg')):  # 可以根據需要添加其他圖片格式\n",
        "        img_path = os.path.join(images_path, filename)\n",
        "\n",
        "        img_path = os.path.join(images_path, filename)\n",
        "\n",
        "        # 讀取圖片\n",
        "        img = Image.open(img_path)\n",
        "\n",
        "        # 格式化為新的大小\n",
        "        img_resized = img.resize(new_size)\n",
        "\n",
        "        # 覆盖原始圖片\n",
        "        img_resized.save(img_path)\n",
        "\n",
        "print(\"圖片格式化處理完成。\")"
      ]
    },
    {
      "cell_type": "markdown",
      "metadata": {
        "id": "-7tW8DuIE91l"
      },
      "source": [
        "# 轉換照片變成各個像素位置的RGB三個值"
      ]
    },
    {
      "cell_type": "markdown",
      "metadata": {
        "id": "SL2xvhDHF3KI"
      },
      "source": [
        "將資料集中每個圖片轉換成像素RGB值的csv檔，是一個陣列，總共會有28X28X3個像素值，因為每個像素值都有RGB三個值，所以csv檔總共有2353行，分別是每一個像素的RGB三值，最後則是標籤"
      ]
    },
    {
      "cell_type": "code",
      "execution_count": 25,
      "metadata": {
        "colab": {
          "base_uri": "https://localhost:8080/"
        },
        "id": "o_-fz_waHdgv",
        "outputId": "445a0547-61fc-4934-d052-e704fc4fb834"
      },
      "outputs": [
        {
          "name": "stdout",
          "output_type": "stream",
          "text": [
            "資料集轉換完成並保存為 CSV 檔案。\n"
          ]
        }
      ],
      "source": [
        "import os\n",
        "from PIL import Image\n",
        "import pandas as pd\n",
        "import numpy as np\n",
        "\n",
        "# 初始化Dataframe來儲存數據\n",
        "df = pd.DataFrame(columns=['pixel{:04d}'.format(i) for i in range(28 * 28 * 3)] + ['label'])\n",
        "\n",
        "# 遍歷每張照片\n",
        "for filename in os.listdir(images_path):\n",
        "    if filename.endswith(('.png', '.jpg', '.jpeg')):  # 根據照片格式\n",
        "        img_path = os.path.join(images_path, filename)\n",
        "\n",
        "        # 讀取圖片\n",
        "        image = Image.open(img_path)\n",
        "\n",
        "        # 將圖片轉為RGB值的numpy數據\n",
        "        image_array = np.array(image)\n",
        "\n",
        "        # 將數據連接到一起並添加到DataFrame中\n",
        "        flattened_image_array = image_array.flatten()\n",
        "        df_temp = pd.DataFrame(flattened_image_array.reshape(1, -1), columns=['pixel{:04d}'.format(i) for i in range(28 * 28 * 3)])\n",
        "\n",
        "        # 提取標籤\n",
        "        if 'Benign keratosis' in filename:\n",
        "            label = '2'\n",
        "        elif 'Actinic keratosis' in filename:\n",
        "            label = '0'\n",
        "        elif 'Basal cell carcinoma' in filename:\n",
        "            label = '1'\n",
        "        elif 'Dermatofibroma' in filename:\n",
        "            label = '3'\n",
        "        elif 'Melanocytic nevus' in filename:\n",
        "            label = '4'\n",
        "        elif 'Melanoma' in filename:\n",
        "            label = '6'\n",
        "        elif 'Vascular_lesion' in filename:\n",
        "            label = '5'\n",
        "        elif 'normal' in filename:\n",
        "            label = '7'\n",
        "\n",
        "        # 添加標籤到DataFrame中\n",
        "        df_temp['label'] = label\n",
        "\n",
        "        # 將臨時DataFrame加到主DataFrame中\n",
        "        df = pd.concat([df, df_temp], ignore_index=True)\n",
        "\n",
        "# 保存DataFrame到 CSV 文件\n",
        "df.to_csv('model_data.csv', index=False)\n",
        "\n",
        "print(\"資料集轉換完成並保存為 CSV 檔案。\")\n"
      ]
    },
    {
      "cell_type": "code",
      "execution_count": 29,
      "metadata": {
        "colab": {
          "base_uri": "https://localhost:8080/",
          "height": 444
        },
        "id": "UN48mPDaZfNP",
        "outputId": "6b02ea44-9401-49cb-fff1-cef7e4cf0f71"
      },
      "outputs": [
        {
          "data": {
            "application/vnd.google.colaboratory.intrinsic+json": {
              "type": "dataframe",
              "variable_name": "data"
            },
            "text/html": [
              "\n",
              "  <div id=\"df-b47de95d-c1d0-42b7-a244-7e26e12bf3a1\" class=\"colab-df-container\">\n",
              "    <div>\n",
              "<style scoped>\n",
              "    .dataframe tbody tr th:only-of-type {\n",
              "        vertical-align: middle;\n",
              "    }\n",
              "\n",
              "    .dataframe tbody tr th {\n",
              "        vertical-align: top;\n",
              "    }\n",
              "\n",
              "    .dataframe thead th {\n",
              "        text-align: right;\n",
              "    }\n",
              "</style>\n",
              "<table border=\"1\" class=\"dataframe\">\n",
              "  <thead>\n",
              "    <tr style=\"text-align: right;\">\n",
              "      <th></th>\n",
              "      <th>pixel0000</th>\n",
              "      <th>pixel0001</th>\n",
              "      <th>pixel0002</th>\n",
              "      <th>pixel0003</th>\n",
              "      <th>pixel0004</th>\n",
              "      <th>pixel0005</th>\n",
              "      <th>pixel0006</th>\n",
              "      <th>pixel0007</th>\n",
              "      <th>pixel0008</th>\n",
              "      <th>pixel0009</th>\n",
              "      <th>...</th>\n",
              "      <th>pixel2343</th>\n",
              "      <th>pixel2344</th>\n",
              "      <th>pixel2345</th>\n",
              "      <th>pixel2346</th>\n",
              "      <th>pixel2347</th>\n",
              "      <th>pixel2348</th>\n",
              "      <th>pixel2349</th>\n",
              "      <th>pixel2350</th>\n",
              "      <th>pixel2351</th>\n",
              "      <th>label</th>\n",
              "    </tr>\n",
              "  </thead>\n",
              "  <tbody>\n",
              "    <tr>\n",
              "      <th>0</th>\n",
              "      <td>180</td>\n",
              "      <td>138</td>\n",
              "      <td>116</td>\n",
              "      <td>177</td>\n",
              "      <td>135</td>\n",
              "      <td>113</td>\n",
              "      <td>182</td>\n",
              "      <td>137</td>\n",
              "      <td>114</td>\n",
              "      <td>183</td>\n",
              "      <td>...</td>\n",
              "      <td>198</td>\n",
              "      <td>155</td>\n",
              "      <td>136</td>\n",
              "      <td>197</td>\n",
              "      <td>154</td>\n",
              "      <td>135</td>\n",
              "      <td>196</td>\n",
              "      <td>153</td>\n",
              "      <td>134</td>\n",
              "      <td>2</td>\n",
              "    </tr>\n",
              "    <tr>\n",
              "      <th>1</th>\n",
              "      <td>232</td>\n",
              "      <td>155</td>\n",
              "      <td>125</td>\n",
              "      <td>222</td>\n",
              "      <td>147</td>\n",
              "      <td>116</td>\n",
              "      <td>222</td>\n",
              "      <td>149</td>\n",
              "      <td>117</td>\n",
              "      <td>217</td>\n",
              "      <td>...</td>\n",
              "      <td>209</td>\n",
              "      <td>112</td>\n",
              "      <td>96</td>\n",
              "      <td>207</td>\n",
              "      <td>111</td>\n",
              "      <td>95</td>\n",
              "      <td>206</td>\n",
              "      <td>110</td>\n",
              "      <td>94</td>\n",
              "      <td>1</td>\n",
              "    </tr>\n",
              "    <tr>\n",
              "      <th>2</th>\n",
              "      <td>232</td>\n",
              "      <td>195</td>\n",
              "      <td>177</td>\n",
              "      <td>220</td>\n",
              "      <td>183</td>\n",
              "      <td>165</td>\n",
              "      <td>209</td>\n",
              "      <td>170</td>\n",
              "      <td>155</td>\n",
              "      <td>205</td>\n",
              "      <td>...</td>\n",
              "      <td>181</td>\n",
              "      <td>123</td>\n",
              "      <td>109</td>\n",
              "      <td>179</td>\n",
              "      <td>122</td>\n",
              "      <td>105</td>\n",
              "      <td>178</td>\n",
              "      <td>121</td>\n",
              "      <td>104</td>\n",
              "      <td>5</td>\n",
              "    </tr>\n",
              "    <tr>\n",
              "      <th>3</th>\n",
              "      <td>247</td>\n",
              "      <td>159</td>\n",
              "      <td>109</td>\n",
              "      <td>247</td>\n",
              "      <td>161</td>\n",
              "      <td>110</td>\n",
              "      <td>251</td>\n",
              "      <td>165</td>\n",
              "      <td>118</td>\n",
              "      <td>253</td>\n",
              "      <td>...</td>\n",
              "      <td>193</td>\n",
              "      <td>109</td>\n",
              "      <td>65</td>\n",
              "      <td>189</td>\n",
              "      <td>106</td>\n",
              "      <td>62</td>\n",
              "      <td>187</td>\n",
              "      <td>104</td>\n",
              "      <td>60</td>\n",
              "      <td>6</td>\n",
              "    </tr>\n",
              "    <tr>\n",
              "      <th>4</th>\n",
              "      <td>189</td>\n",
              "      <td>154</td>\n",
              "      <td>116</td>\n",
              "      <td>188</td>\n",
              "      <td>153</td>\n",
              "      <td>115</td>\n",
              "      <td>189</td>\n",
              "      <td>154</td>\n",
              "      <td>116</td>\n",
              "      <td>192</td>\n",
              "      <td>...</td>\n",
              "      <td>163</td>\n",
              "      <td>128</td>\n",
              "      <td>88</td>\n",
              "      <td>166</td>\n",
              "      <td>131</td>\n",
              "      <td>93</td>\n",
              "      <td>166</td>\n",
              "      <td>131</td>\n",
              "      <td>93</td>\n",
              "      <td>6</td>\n",
              "    </tr>\n",
              "    <tr>\n",
              "      <th>...</th>\n",
              "      <td>...</td>\n",
              "      <td>...</td>\n",
              "      <td>...</td>\n",
              "      <td>...</td>\n",
              "      <td>...</td>\n",
              "      <td>...</td>\n",
              "      <td>...</td>\n",
              "      <td>...</td>\n",
              "      <td>...</td>\n",
              "      <td>...</td>\n",
              "      <td>...</td>\n",
              "      <td>...</td>\n",
              "      <td>...</td>\n",
              "      <td>...</td>\n",
              "      <td>...</td>\n",
              "      <td>...</td>\n",
              "      <td>...</td>\n",
              "      <td>...</td>\n",
              "      <td>...</td>\n",
              "      <td>...</td>\n",
              "      <td>...</td>\n",
              "    </tr>\n",
              "    <tr>\n",
              "      <th>95</th>\n",
              "      <td>248</td>\n",
              "      <td>191</td>\n",
              "      <td>161</td>\n",
              "      <td>247</td>\n",
              "      <td>190</td>\n",
              "      <td>160</td>\n",
              "      <td>253</td>\n",
              "      <td>192</td>\n",
              "      <td>161</td>\n",
              "      <td>252</td>\n",
              "      <td>...</td>\n",
              "      <td>253</td>\n",
              "      <td>182</td>\n",
              "      <td>150</td>\n",
              "      <td>253</td>\n",
              "      <td>180</td>\n",
              "      <td>147</td>\n",
              "      <td>251</td>\n",
              "      <td>178</td>\n",
              "      <td>145</td>\n",
              "      <td>2</td>\n",
              "    </tr>\n",
              "    <tr>\n",
              "      <th>96</th>\n",
              "      <td>185</td>\n",
              "      <td>148</td>\n",
              "      <td>142</td>\n",
              "      <td>185</td>\n",
              "      <td>148</td>\n",
              "      <td>142</td>\n",
              "      <td>186</td>\n",
              "      <td>149</td>\n",
              "      <td>143</td>\n",
              "      <td>190</td>\n",
              "      <td>...</td>\n",
              "      <td>146</td>\n",
              "      <td>119</td>\n",
              "      <td>110</td>\n",
              "      <td>145</td>\n",
              "      <td>118</td>\n",
              "      <td>109</td>\n",
              "      <td>144</td>\n",
              "      <td>117</td>\n",
              "      <td>108</td>\n",
              "      <td>1</td>\n",
              "    </tr>\n",
              "    <tr>\n",
              "      <th>97</th>\n",
              "      <td>98</td>\n",
              "      <td>62</td>\n",
              "      <td>46</td>\n",
              "      <td>123</td>\n",
              "      <td>88</td>\n",
              "      <td>69</td>\n",
              "      <td>120</td>\n",
              "      <td>83</td>\n",
              "      <td>64</td>\n",
              "      <td>126</td>\n",
              "      <td>...</td>\n",
              "      <td>117</td>\n",
              "      <td>74</td>\n",
              "      <td>57</td>\n",
              "      <td>109</td>\n",
              "      <td>66</td>\n",
              "      <td>49</td>\n",
              "      <td>107</td>\n",
              "      <td>66</td>\n",
              "      <td>48</td>\n",
              "      <td>6</td>\n",
              "    </tr>\n",
              "    <tr>\n",
              "      <th>98</th>\n",
              "      <td>249</td>\n",
              "      <td>215</td>\n",
              "      <td>180</td>\n",
              "      <td>245</td>\n",
              "      <td>211</td>\n",
              "      <td>176</td>\n",
              "      <td>255</td>\n",
              "      <td>223</td>\n",
              "      <td>188</td>\n",
              "      <td>248</td>\n",
              "      <td>...</td>\n",
              "      <td>237</td>\n",
              "      <td>193</td>\n",
              "      <td>164</td>\n",
              "      <td>234</td>\n",
              "      <td>193</td>\n",
              "      <td>163</td>\n",
              "      <td>233</td>\n",
              "      <td>192</td>\n",
              "      <td>162</td>\n",
              "      <td>2</td>\n",
              "    </tr>\n",
              "    <tr>\n",
              "      <th>99</th>\n",
              "      <td>182</td>\n",
              "      <td>139</td>\n",
              "      <td>114</td>\n",
              "      <td>182</td>\n",
              "      <td>141</td>\n",
              "      <td>119</td>\n",
              "      <td>182</td>\n",
              "      <td>140</td>\n",
              "      <td>117</td>\n",
              "      <td>186</td>\n",
              "      <td>...</td>\n",
              "      <td>210</td>\n",
              "      <td>164</td>\n",
              "      <td>135</td>\n",
              "      <td>208</td>\n",
              "      <td>162</td>\n",
              "      <td>132</td>\n",
              "      <td>207</td>\n",
              "      <td>156</td>\n",
              "      <td>124</td>\n",
              "      <td>1</td>\n",
              "    </tr>\n",
              "  </tbody>\n",
              "</table>\n",
              "<p>100 rows × 2353 columns</p>\n",
              "</div>\n",
              "    <div class=\"colab-df-buttons\">\n",
              "\n",
              "  <div class=\"colab-df-container\">\n",
              "    <button class=\"colab-df-convert\" onclick=\"convertToInteractive('df-b47de95d-c1d0-42b7-a244-7e26e12bf3a1')\"\n",
              "            title=\"Convert this dataframe to an interactive table.\"\n",
              "            style=\"display:none;\">\n",
              "\n",
              "  <svg xmlns=\"http://www.w3.org/2000/svg\" height=\"24px\" viewBox=\"0 -960 960 960\">\n",
              "    <path d=\"M120-120v-720h720v720H120Zm60-500h600v-160H180v160Zm220 220h160v-160H400v160Zm0 220h160v-160H400v160ZM180-400h160v-160H180v160Zm440 0h160v-160H620v160ZM180-180h160v-160H180v160Zm440 0h160v-160H620v160Z\"/>\n",
              "  </svg>\n",
              "    </button>\n",
              "\n",
              "  <style>\n",
              "    .colab-df-container {\n",
              "      display:flex;\n",
              "      gap: 12px;\n",
              "    }\n",
              "\n",
              "    .colab-df-convert {\n",
              "      background-color: #E8F0FE;\n",
              "      border: none;\n",
              "      border-radius: 50%;\n",
              "      cursor: pointer;\n",
              "      display: none;\n",
              "      fill: #1967D2;\n",
              "      height: 32px;\n",
              "      padding: 0 0 0 0;\n",
              "      width: 32px;\n",
              "    }\n",
              "\n",
              "    .colab-df-convert:hover {\n",
              "      background-color: #E2EBFA;\n",
              "      box-shadow: 0px 1px 2px rgba(60, 64, 67, 0.3), 0px 1px 3px 1px rgba(60, 64, 67, 0.15);\n",
              "      fill: #174EA6;\n",
              "    }\n",
              "\n",
              "    .colab-df-buttons div {\n",
              "      margin-bottom: 4px;\n",
              "    }\n",
              "\n",
              "    [theme=dark] .colab-df-convert {\n",
              "      background-color: #3B4455;\n",
              "      fill: #D2E3FC;\n",
              "    }\n",
              "\n",
              "    [theme=dark] .colab-df-convert:hover {\n",
              "      background-color: #434B5C;\n",
              "      box-shadow: 0px 1px 3px 1px rgba(0, 0, 0, 0.15);\n",
              "      filter: drop-shadow(0px 1px 2px rgba(0, 0, 0, 0.3));\n",
              "      fill: #FFFFFF;\n",
              "    }\n",
              "  </style>\n",
              "\n",
              "    <script>\n",
              "      const buttonEl =\n",
              "        document.querySelector('#df-b47de95d-c1d0-42b7-a244-7e26e12bf3a1 button.colab-df-convert');\n",
              "      buttonEl.style.display =\n",
              "        google.colab.kernel.accessAllowed ? 'block' : 'none';\n",
              "\n",
              "      async function convertToInteractive(key) {\n",
              "        const element = document.querySelector('#df-b47de95d-c1d0-42b7-a244-7e26e12bf3a1');\n",
              "        const dataTable =\n",
              "          await google.colab.kernel.invokeFunction('convertToInteractive',\n",
              "                                                    [key], {});\n",
              "        if (!dataTable) return;\n",
              "\n",
              "        const docLinkHtml = 'Like what you see? Visit the ' +\n",
              "          '<a target=\"_blank\" href=https://colab.research.google.com/notebooks/data_table.ipynb>data table notebook</a>'\n",
              "          + ' to learn more about interactive tables.';\n",
              "        element.innerHTML = '';\n",
              "        dataTable['output_type'] = 'display_data';\n",
              "        await google.colab.output.renderOutput(dataTable, element);\n",
              "        const docLink = document.createElement('div');\n",
              "        docLink.innerHTML = docLinkHtml;\n",
              "        element.appendChild(docLink);\n",
              "      }\n",
              "    </script>\n",
              "  </div>\n",
              "\n",
              "\n",
              "<div id=\"df-2cdc2828-864c-4de3-b154-0c6b88e7679e\">\n",
              "  <button class=\"colab-df-quickchart\" onclick=\"quickchart('df-2cdc2828-864c-4de3-b154-0c6b88e7679e')\"\n",
              "            title=\"Suggest charts\"\n",
              "            style=\"display:none;\">\n",
              "\n",
              "<svg xmlns=\"http://www.w3.org/2000/svg\" height=\"24px\"viewBox=\"0 0 24 24\"\n",
              "     width=\"24px\">\n",
              "    <g>\n",
              "        <path d=\"M19 3H5c-1.1 0-2 .9-2 2v14c0 1.1.9 2 2 2h14c1.1 0 2-.9 2-2V5c0-1.1-.9-2-2-2zM9 17H7v-7h2v7zm4 0h-2V7h2v10zm4 0h-2v-4h2v4z\"/>\n",
              "    </g>\n",
              "</svg>\n",
              "  </button>\n",
              "\n",
              "<style>\n",
              "  .colab-df-quickchart {\n",
              "      --bg-color: #E8F0FE;\n",
              "      --fill-color: #1967D2;\n",
              "      --hover-bg-color: #E2EBFA;\n",
              "      --hover-fill-color: #174EA6;\n",
              "      --disabled-fill-color: #AAA;\n",
              "      --disabled-bg-color: #DDD;\n",
              "  }\n",
              "\n",
              "  [theme=dark] .colab-df-quickchart {\n",
              "      --bg-color: #3B4455;\n",
              "      --fill-color: #D2E3FC;\n",
              "      --hover-bg-color: #434B5C;\n",
              "      --hover-fill-color: #FFFFFF;\n",
              "      --disabled-bg-color: #3B4455;\n",
              "      --disabled-fill-color: #666;\n",
              "  }\n",
              "\n",
              "  .colab-df-quickchart {\n",
              "    background-color: var(--bg-color);\n",
              "    border: none;\n",
              "    border-radius: 50%;\n",
              "    cursor: pointer;\n",
              "    display: none;\n",
              "    fill: var(--fill-color);\n",
              "    height: 32px;\n",
              "    padding: 0;\n",
              "    width: 32px;\n",
              "  }\n",
              "\n",
              "  .colab-df-quickchart:hover {\n",
              "    background-color: var(--hover-bg-color);\n",
              "    box-shadow: 0 1px 2px rgba(60, 64, 67, 0.3), 0 1px 3px 1px rgba(60, 64, 67, 0.15);\n",
              "    fill: var(--button-hover-fill-color);\n",
              "  }\n",
              "\n",
              "  .colab-df-quickchart-complete:disabled,\n",
              "  .colab-df-quickchart-complete:disabled:hover {\n",
              "    background-color: var(--disabled-bg-color);\n",
              "    fill: var(--disabled-fill-color);\n",
              "    box-shadow: none;\n",
              "  }\n",
              "\n",
              "  .colab-df-spinner {\n",
              "    border: 2px solid var(--fill-color);\n",
              "    border-color: transparent;\n",
              "    border-bottom-color: var(--fill-color);\n",
              "    animation:\n",
              "      spin 1s steps(1) infinite;\n",
              "  }\n",
              "\n",
              "  @keyframes spin {\n",
              "    0% {\n",
              "      border-color: transparent;\n",
              "      border-bottom-color: var(--fill-color);\n",
              "      border-left-color: var(--fill-color);\n",
              "    }\n",
              "    20% {\n",
              "      border-color: transparent;\n",
              "      border-left-color: var(--fill-color);\n",
              "      border-top-color: var(--fill-color);\n",
              "    }\n",
              "    30% {\n",
              "      border-color: transparent;\n",
              "      border-left-color: var(--fill-color);\n",
              "      border-top-color: var(--fill-color);\n",
              "      border-right-color: var(--fill-color);\n",
              "    }\n",
              "    40% {\n",
              "      border-color: transparent;\n",
              "      border-right-color: var(--fill-color);\n",
              "      border-top-color: var(--fill-color);\n",
              "    }\n",
              "    60% {\n",
              "      border-color: transparent;\n",
              "      border-right-color: var(--fill-color);\n",
              "    }\n",
              "    80% {\n",
              "      border-color: transparent;\n",
              "      border-right-color: var(--fill-color);\n",
              "      border-bottom-color: var(--fill-color);\n",
              "    }\n",
              "    90% {\n",
              "      border-color: transparent;\n",
              "      border-bottom-color: var(--fill-color);\n",
              "    }\n",
              "  }\n",
              "</style>\n",
              "\n",
              "  <script>\n",
              "    async function quickchart(key) {\n",
              "      const quickchartButtonEl =\n",
              "        document.querySelector('#' + key + ' button');\n",
              "      quickchartButtonEl.disabled = true;  // To prevent multiple clicks.\n",
              "      quickchartButtonEl.classList.add('colab-df-spinner');\n",
              "      try {\n",
              "        const charts = await google.colab.kernel.invokeFunction(\n",
              "            'suggestCharts', [key], {});\n",
              "      } catch (error) {\n",
              "        console.error('Error during call to suggestCharts:', error);\n",
              "      }\n",
              "      quickchartButtonEl.classList.remove('colab-df-spinner');\n",
              "      quickchartButtonEl.classList.add('colab-df-quickchart-complete');\n",
              "    }\n",
              "    (() => {\n",
              "      let quickchartButtonEl =\n",
              "        document.querySelector('#df-2cdc2828-864c-4de3-b154-0c6b88e7679e button');\n",
              "      quickchartButtonEl.style.display =\n",
              "        google.colab.kernel.accessAllowed ? 'block' : 'none';\n",
              "    })();\n",
              "  </script>\n",
              "</div>\n",
              "    </div>\n",
              "  </div>\n"
            ],
            "text/plain": [
              "    pixel0000  pixel0001  pixel0002  pixel0003  pixel0004  pixel0005  \\\n",
              "0         180        138        116        177        135        113   \n",
              "1         232        155        125        222        147        116   \n",
              "2         232        195        177        220        183        165   \n",
              "3         247        159        109        247        161        110   \n",
              "4         189        154        116        188        153        115   \n",
              "..        ...        ...        ...        ...        ...        ...   \n",
              "95        248        191        161        247        190        160   \n",
              "96        185        148        142        185        148        142   \n",
              "97         98         62         46        123         88         69   \n",
              "98        249        215        180        245        211        176   \n",
              "99        182        139        114        182        141        119   \n",
              "\n",
              "    pixel0006  pixel0007  pixel0008  pixel0009  ...  pixel2343  pixel2344  \\\n",
              "0         182        137        114        183  ...        198        155   \n",
              "1         222        149        117        217  ...        209        112   \n",
              "2         209        170        155        205  ...        181        123   \n",
              "3         251        165        118        253  ...        193        109   \n",
              "4         189        154        116        192  ...        163        128   \n",
              "..        ...        ...        ...        ...  ...        ...        ...   \n",
              "95        253        192        161        252  ...        253        182   \n",
              "96        186        149        143        190  ...        146        119   \n",
              "97        120         83         64        126  ...        117         74   \n",
              "98        255        223        188        248  ...        237        193   \n",
              "99        182        140        117        186  ...        210        164   \n",
              "\n",
              "    pixel2345  pixel2346  pixel2347  pixel2348  pixel2349  pixel2350  \\\n",
              "0         136        197        154        135        196        153   \n",
              "1          96        207        111         95        206        110   \n",
              "2         109        179        122        105        178        121   \n",
              "3          65        189        106         62        187        104   \n",
              "4          88        166        131         93        166        131   \n",
              "..        ...        ...        ...        ...        ...        ...   \n",
              "95        150        253        180        147        251        178   \n",
              "96        110        145        118        109        144        117   \n",
              "97         57        109         66         49        107         66   \n",
              "98        164        234        193        163        233        192   \n",
              "99        135        208        162        132        207        156   \n",
              "\n",
              "    pixel2351  label  \n",
              "0         134      2  \n",
              "1          94      1  \n",
              "2         104      5  \n",
              "3          60      6  \n",
              "4          93      6  \n",
              "..        ...    ...  \n",
              "95        145      2  \n",
              "96        108      1  \n",
              "97         48      6  \n",
              "98        162      2  \n",
              "99        124      1  \n",
              "\n",
              "[100 rows x 2353 columns]"
            ]
          },
          "execution_count": 29,
          "metadata": {},
          "output_type": "execute_result"
        }
      ],
      "source": [
        "import pandas as pd\n",
        "data = pd.read_csv('model_data.csv')\n",
        "data.head(100)"
      ]
    }
  ],
  "metadata": {
    "colab": {
      "collapsed_sections": [
        "wREwD7uadZB_"
      ],
      "provenance": []
    },
    "kernelspec": {
      "display_name": "Python 3",
      "name": "python3"
    },
    "language_info": {
      "name": "python"
    }
  },
  "nbformat": 4,
  "nbformat_minor": 0
}
